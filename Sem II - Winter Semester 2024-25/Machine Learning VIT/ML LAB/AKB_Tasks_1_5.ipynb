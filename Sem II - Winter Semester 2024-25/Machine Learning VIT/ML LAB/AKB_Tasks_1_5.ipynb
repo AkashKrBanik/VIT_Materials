{
 "cells": [
  {
   "cell_type": "markdown",
   "metadata": {
    "id": "VBv4zqQxlBLp"
   },
   "source": [
    "# AKASH KUMAR BANIK\n",
    "# 24MCA0242"
   ]
  },
  {
   "cell_type": "markdown",
   "metadata": {
    "id": "ySpotOmTr1T_"
   },
   "source": [
    "# TASK - 1"
   ]
  },
  {
   "cell_type": "markdown",
   "metadata": {
    "id": "f-VxH1TGlNhX"
   },
   "source": [
    "Task 1:\n",
    "Import the diabetes dataset to your platform from the link given below and perform the following:\n",
    "1. Create a data frame and display the number of samples and features with the datatype\n",
    "2. Count the number of diabetes patient who never smoke  \n",
    "3. Display all the statistical measure about the data frame\n",
    "4. Find the number of samples having missing values\n",
    "5. Print the first 50 samples from the dataset"
   ]
  },
  {
   "cell_type": "code",
   "execution_count": 5,
   "metadata": {
    "id": "dboKC-DnlGkL"
   },
   "outputs": [
    {
     "ename": "ModuleNotFoundError",
     "evalue": "No module named 'seaborn'",
     "output_type": "error",
     "traceback": [
      "\u001b[1;31m---------------------------------------------------------------------------\u001b[0m",
      "\u001b[1;31mModuleNotFoundError\u001b[0m                       Traceback (most recent call last)",
      "Cell \u001b[1;32mIn[5], line 2\u001b[0m\n\u001b[0;32m      1\u001b[0m \u001b[38;5;28;01mimport\u001b[39;00m\u001b[38;5;250m \u001b[39m\u001b[38;5;21;01mpandas\u001b[39;00m\u001b[38;5;250m \u001b[39m\u001b[38;5;28;01mas\u001b[39;00m\u001b[38;5;250m \u001b[39m\u001b[38;5;21;01mpd\u001b[39;00m\n\u001b[1;32m----> 2\u001b[0m \u001b[38;5;28;01mimport\u001b[39;00m\u001b[38;5;250m \u001b[39m\u001b[38;5;21;01mseaborn\u001b[39;00m\u001b[38;5;250m \u001b[39m\u001b[38;5;28;01mas\u001b[39;00m\u001b[38;5;250m \u001b[39m\u001b[38;5;21;01msns\u001b[39;00m\n\u001b[0;32m      3\u001b[0m \u001b[38;5;28;01mimport\u001b[39;00m\u001b[38;5;250m \u001b[39m\u001b[38;5;21;01mnumpy\u001b[39;00m\u001b[38;5;250m \u001b[39m\u001b[38;5;28;01mas\u001b[39;00m\u001b[38;5;250m \u001b[39m\u001b[38;5;21;01mnp\u001b[39;00m\n\u001b[0;32m      4\u001b[0m \u001b[38;5;28;01mimport\u001b[39;00m\u001b[38;5;250m \u001b[39m\u001b[38;5;21;01mmatplotlib\u001b[39;00m\u001b[38;5;21;01m.\u001b[39;00m\u001b[38;5;21;01mpyplot\u001b[39;00m\u001b[38;5;250m \u001b[39m\u001b[38;5;28;01mas\u001b[39;00m\u001b[38;5;250m \u001b[39m\u001b[38;5;21;01mplt\u001b[39;00m\n",
      "\u001b[1;31mModuleNotFoundError\u001b[0m: No module named 'seaborn'"
     ]
    }
   ],
   "source": [
    "import pandas as pd\n",
    "import seaborn as sns\n",
    "import numpy as np\n",
    "import matplotlib.pyplot as plt\n",
    "from sklearn.model_selection import train_test_split"
   ]
  },
  {
   "cell_type": "code",
   "execution_count": 7,
   "metadata": {
    "colab": {
     "base_uri": "https://localhost:8080/",
     "height": 0
    },
    "id": "7eCrbyXBxnZY",
    "outputId": "0dc15b96-563d-48f2-e712-7ab6be15e9b9"
   },
   "outputs": [
    {
     "ename": "ModuleNotFoundError",
     "evalue": "No module named 'google'",
     "output_type": "error",
     "traceback": [
      "\u001b[1;31m---------------------------------------------------------------------------\u001b[0m",
      "\u001b[1;31mModuleNotFoundError\u001b[0m                       Traceback (most recent call last)",
      "Cell \u001b[1;32mIn[7], line 1\u001b[0m\n\u001b[1;32m----> 1\u001b[0m \u001b[38;5;28;01mfrom\u001b[39;00m\u001b[38;5;250m \u001b[39m\u001b[38;5;21;01mgoogle\u001b[39;00m\u001b[38;5;21;01m.\u001b[39;00m\u001b[38;5;21;01mcolab\u001b[39;00m\u001b[38;5;250m \u001b[39m\u001b[38;5;28;01mimport\u001b[39;00m drive\n\u001b[0;32m      2\u001b[0m drive\u001b[38;5;241m.\u001b[39mmount(\u001b[38;5;124m'\u001b[39m\u001b[38;5;124m/content/drive\u001b[39m\u001b[38;5;124m'\u001b[39m)\n",
      "\u001b[1;31mModuleNotFoundError\u001b[0m: No module named 'google'"
     ]
    }
   ],
   "source": [
    "from google.colab import drive\n",
    "drive.mount('/content/drive')"
   ]
  },
  {
   "cell_type": "code",
   "execution_count": 6,
   "metadata": {
    "id": "EQhc1OzYBwQK"
   },
   "outputs": [
    {
     "ename": "FileNotFoundError",
     "evalue": "[Errno 2] No such file or directory: '/content/drive/MyDrive/ML_Datasets/diabetes_prediction_dataset.csv'",
     "output_type": "error",
     "traceback": [
      "\u001b[1;31m---------------------------------------------------------------------------\u001b[0m",
      "\u001b[1;31mFileNotFoundError\u001b[0m                         Traceback (most recent call last)",
      "Cell \u001b[1;32mIn[6], line 1\u001b[0m\n\u001b[1;32m----> 1\u001b[0m df\u001b[38;5;241m=\u001b[39m\u001b[43mpd\u001b[49m\u001b[38;5;241;43m.\u001b[39;49m\u001b[43mread_csv\u001b[49m\u001b[43m(\u001b[49m\u001b[38;5;124;43m'\u001b[39;49m\u001b[38;5;124;43m/content/drive/MyDrive/ML_Datasets/diabetes_prediction_dataset.csv\u001b[39;49m\u001b[38;5;124;43m'\u001b[39;49m\u001b[43m)\u001b[49m\n",
      "File \u001b[1;32m~\\AppData\\Local\\Programs\\Python\\Python311\\Lib\\site-packages\\pandas\\io\\parsers\\readers.py:1026\u001b[0m, in \u001b[0;36mread_csv\u001b[1;34m(filepath_or_buffer, sep, delimiter, header, names, index_col, usecols, dtype, engine, converters, true_values, false_values, skipinitialspace, skiprows, skipfooter, nrows, na_values, keep_default_na, na_filter, verbose, skip_blank_lines, parse_dates, infer_datetime_format, keep_date_col, date_parser, date_format, dayfirst, cache_dates, iterator, chunksize, compression, thousands, decimal, lineterminator, quotechar, quoting, doublequote, escapechar, comment, encoding, encoding_errors, dialect, on_bad_lines, delim_whitespace, low_memory, memory_map, float_precision, storage_options, dtype_backend)\u001b[0m\n\u001b[0;32m   1013\u001b[0m kwds_defaults \u001b[38;5;241m=\u001b[39m _refine_defaults_read(\n\u001b[0;32m   1014\u001b[0m     dialect,\n\u001b[0;32m   1015\u001b[0m     delimiter,\n\u001b[1;32m   (...)\u001b[0m\n\u001b[0;32m   1022\u001b[0m     dtype_backend\u001b[38;5;241m=\u001b[39mdtype_backend,\n\u001b[0;32m   1023\u001b[0m )\n\u001b[0;32m   1024\u001b[0m kwds\u001b[38;5;241m.\u001b[39mupdate(kwds_defaults)\n\u001b[1;32m-> 1026\u001b[0m \u001b[38;5;28;01mreturn\u001b[39;00m \u001b[43m_read\u001b[49m\u001b[43m(\u001b[49m\u001b[43mfilepath_or_buffer\u001b[49m\u001b[43m,\u001b[49m\u001b[43m \u001b[49m\u001b[43mkwds\u001b[49m\u001b[43m)\u001b[49m\n",
      "File \u001b[1;32m~\\AppData\\Local\\Programs\\Python\\Python311\\Lib\\site-packages\\pandas\\io\\parsers\\readers.py:620\u001b[0m, in \u001b[0;36m_read\u001b[1;34m(filepath_or_buffer, kwds)\u001b[0m\n\u001b[0;32m    617\u001b[0m _validate_names(kwds\u001b[38;5;241m.\u001b[39mget(\u001b[38;5;124m\"\u001b[39m\u001b[38;5;124mnames\u001b[39m\u001b[38;5;124m\"\u001b[39m, \u001b[38;5;28;01mNone\u001b[39;00m))\n\u001b[0;32m    619\u001b[0m \u001b[38;5;66;03m# Create the parser.\u001b[39;00m\n\u001b[1;32m--> 620\u001b[0m parser \u001b[38;5;241m=\u001b[39m \u001b[43mTextFileReader\u001b[49m\u001b[43m(\u001b[49m\u001b[43mfilepath_or_buffer\u001b[49m\u001b[43m,\u001b[49m\u001b[43m \u001b[49m\u001b[38;5;241;43m*\u001b[39;49m\u001b[38;5;241;43m*\u001b[39;49m\u001b[43mkwds\u001b[49m\u001b[43m)\u001b[49m\n\u001b[0;32m    622\u001b[0m \u001b[38;5;28;01mif\u001b[39;00m chunksize \u001b[38;5;129;01mor\u001b[39;00m iterator:\n\u001b[0;32m    623\u001b[0m     \u001b[38;5;28;01mreturn\u001b[39;00m parser\n",
      "File \u001b[1;32m~\\AppData\\Local\\Programs\\Python\\Python311\\Lib\\site-packages\\pandas\\io\\parsers\\readers.py:1620\u001b[0m, in \u001b[0;36mTextFileReader.__init__\u001b[1;34m(self, f, engine, **kwds)\u001b[0m\n\u001b[0;32m   1617\u001b[0m     \u001b[38;5;28mself\u001b[39m\u001b[38;5;241m.\u001b[39moptions[\u001b[38;5;124m\"\u001b[39m\u001b[38;5;124mhas_index_names\u001b[39m\u001b[38;5;124m\"\u001b[39m] \u001b[38;5;241m=\u001b[39m kwds[\u001b[38;5;124m\"\u001b[39m\u001b[38;5;124mhas_index_names\u001b[39m\u001b[38;5;124m\"\u001b[39m]\n\u001b[0;32m   1619\u001b[0m \u001b[38;5;28mself\u001b[39m\u001b[38;5;241m.\u001b[39mhandles: IOHandles \u001b[38;5;241m|\u001b[39m \u001b[38;5;28;01mNone\u001b[39;00m \u001b[38;5;241m=\u001b[39m \u001b[38;5;28;01mNone\u001b[39;00m\n\u001b[1;32m-> 1620\u001b[0m \u001b[38;5;28mself\u001b[39m\u001b[38;5;241m.\u001b[39m_engine \u001b[38;5;241m=\u001b[39m \u001b[38;5;28;43mself\u001b[39;49m\u001b[38;5;241;43m.\u001b[39;49m\u001b[43m_make_engine\u001b[49m\u001b[43m(\u001b[49m\u001b[43mf\u001b[49m\u001b[43m,\u001b[49m\u001b[43m \u001b[49m\u001b[38;5;28;43mself\u001b[39;49m\u001b[38;5;241;43m.\u001b[39;49m\u001b[43mengine\u001b[49m\u001b[43m)\u001b[49m\n",
      "File \u001b[1;32m~\\AppData\\Local\\Programs\\Python\\Python311\\Lib\\site-packages\\pandas\\io\\parsers\\readers.py:1880\u001b[0m, in \u001b[0;36mTextFileReader._make_engine\u001b[1;34m(self, f, engine)\u001b[0m\n\u001b[0;32m   1878\u001b[0m     \u001b[38;5;28;01mif\u001b[39;00m \u001b[38;5;124m\"\u001b[39m\u001b[38;5;124mb\u001b[39m\u001b[38;5;124m\"\u001b[39m \u001b[38;5;129;01mnot\u001b[39;00m \u001b[38;5;129;01min\u001b[39;00m mode:\n\u001b[0;32m   1879\u001b[0m         mode \u001b[38;5;241m+\u001b[39m\u001b[38;5;241m=\u001b[39m \u001b[38;5;124m\"\u001b[39m\u001b[38;5;124mb\u001b[39m\u001b[38;5;124m\"\u001b[39m\n\u001b[1;32m-> 1880\u001b[0m \u001b[38;5;28mself\u001b[39m\u001b[38;5;241m.\u001b[39mhandles \u001b[38;5;241m=\u001b[39m \u001b[43mget_handle\u001b[49m\u001b[43m(\u001b[49m\n\u001b[0;32m   1881\u001b[0m \u001b[43m    \u001b[49m\u001b[43mf\u001b[49m\u001b[43m,\u001b[49m\n\u001b[0;32m   1882\u001b[0m \u001b[43m    \u001b[49m\u001b[43mmode\u001b[49m\u001b[43m,\u001b[49m\n\u001b[0;32m   1883\u001b[0m \u001b[43m    \u001b[49m\u001b[43mencoding\u001b[49m\u001b[38;5;241;43m=\u001b[39;49m\u001b[38;5;28;43mself\u001b[39;49m\u001b[38;5;241;43m.\u001b[39;49m\u001b[43moptions\u001b[49m\u001b[38;5;241;43m.\u001b[39;49m\u001b[43mget\u001b[49m\u001b[43m(\u001b[49m\u001b[38;5;124;43m\"\u001b[39;49m\u001b[38;5;124;43mencoding\u001b[39;49m\u001b[38;5;124;43m\"\u001b[39;49m\u001b[43m,\u001b[49m\u001b[43m \u001b[49m\u001b[38;5;28;43;01mNone\u001b[39;49;00m\u001b[43m)\u001b[49m\u001b[43m,\u001b[49m\n\u001b[0;32m   1884\u001b[0m \u001b[43m    \u001b[49m\u001b[43mcompression\u001b[49m\u001b[38;5;241;43m=\u001b[39;49m\u001b[38;5;28;43mself\u001b[39;49m\u001b[38;5;241;43m.\u001b[39;49m\u001b[43moptions\u001b[49m\u001b[38;5;241;43m.\u001b[39;49m\u001b[43mget\u001b[49m\u001b[43m(\u001b[49m\u001b[38;5;124;43m\"\u001b[39;49m\u001b[38;5;124;43mcompression\u001b[39;49m\u001b[38;5;124;43m\"\u001b[39;49m\u001b[43m,\u001b[49m\u001b[43m \u001b[49m\u001b[38;5;28;43;01mNone\u001b[39;49;00m\u001b[43m)\u001b[49m\u001b[43m,\u001b[49m\n\u001b[0;32m   1885\u001b[0m \u001b[43m    \u001b[49m\u001b[43mmemory_map\u001b[49m\u001b[38;5;241;43m=\u001b[39;49m\u001b[38;5;28;43mself\u001b[39;49m\u001b[38;5;241;43m.\u001b[39;49m\u001b[43moptions\u001b[49m\u001b[38;5;241;43m.\u001b[39;49m\u001b[43mget\u001b[49m\u001b[43m(\u001b[49m\u001b[38;5;124;43m\"\u001b[39;49m\u001b[38;5;124;43mmemory_map\u001b[39;49m\u001b[38;5;124;43m\"\u001b[39;49m\u001b[43m,\u001b[49m\u001b[43m \u001b[49m\u001b[38;5;28;43;01mFalse\u001b[39;49;00m\u001b[43m)\u001b[49m\u001b[43m,\u001b[49m\n\u001b[0;32m   1886\u001b[0m \u001b[43m    \u001b[49m\u001b[43mis_text\u001b[49m\u001b[38;5;241;43m=\u001b[39;49m\u001b[43mis_text\u001b[49m\u001b[43m,\u001b[49m\n\u001b[0;32m   1887\u001b[0m \u001b[43m    \u001b[49m\u001b[43merrors\u001b[49m\u001b[38;5;241;43m=\u001b[39;49m\u001b[38;5;28;43mself\u001b[39;49m\u001b[38;5;241;43m.\u001b[39;49m\u001b[43moptions\u001b[49m\u001b[38;5;241;43m.\u001b[39;49m\u001b[43mget\u001b[49m\u001b[43m(\u001b[49m\u001b[38;5;124;43m\"\u001b[39;49m\u001b[38;5;124;43mencoding_errors\u001b[39;49m\u001b[38;5;124;43m\"\u001b[39;49m\u001b[43m,\u001b[49m\u001b[43m \u001b[49m\u001b[38;5;124;43m\"\u001b[39;49m\u001b[38;5;124;43mstrict\u001b[39;49m\u001b[38;5;124;43m\"\u001b[39;49m\u001b[43m)\u001b[49m\u001b[43m,\u001b[49m\n\u001b[0;32m   1888\u001b[0m \u001b[43m    \u001b[49m\u001b[43mstorage_options\u001b[49m\u001b[38;5;241;43m=\u001b[39;49m\u001b[38;5;28;43mself\u001b[39;49m\u001b[38;5;241;43m.\u001b[39;49m\u001b[43moptions\u001b[49m\u001b[38;5;241;43m.\u001b[39;49m\u001b[43mget\u001b[49m\u001b[43m(\u001b[49m\u001b[38;5;124;43m\"\u001b[39;49m\u001b[38;5;124;43mstorage_options\u001b[39;49m\u001b[38;5;124;43m\"\u001b[39;49m\u001b[43m,\u001b[49m\u001b[43m \u001b[49m\u001b[38;5;28;43;01mNone\u001b[39;49;00m\u001b[43m)\u001b[49m\u001b[43m,\u001b[49m\n\u001b[0;32m   1889\u001b[0m \u001b[43m\u001b[49m\u001b[43m)\u001b[49m\n\u001b[0;32m   1890\u001b[0m \u001b[38;5;28;01massert\u001b[39;00m \u001b[38;5;28mself\u001b[39m\u001b[38;5;241m.\u001b[39mhandles \u001b[38;5;129;01mis\u001b[39;00m \u001b[38;5;129;01mnot\u001b[39;00m \u001b[38;5;28;01mNone\u001b[39;00m\n\u001b[0;32m   1891\u001b[0m f \u001b[38;5;241m=\u001b[39m \u001b[38;5;28mself\u001b[39m\u001b[38;5;241m.\u001b[39mhandles\u001b[38;5;241m.\u001b[39mhandle\n",
      "File \u001b[1;32m~\\AppData\\Local\\Programs\\Python\\Python311\\Lib\\site-packages\\pandas\\io\\common.py:873\u001b[0m, in \u001b[0;36mget_handle\u001b[1;34m(path_or_buf, mode, encoding, compression, memory_map, is_text, errors, storage_options)\u001b[0m\n\u001b[0;32m    868\u001b[0m \u001b[38;5;28;01melif\u001b[39;00m \u001b[38;5;28misinstance\u001b[39m(handle, \u001b[38;5;28mstr\u001b[39m):\n\u001b[0;32m    869\u001b[0m     \u001b[38;5;66;03m# Check whether the filename is to be opened in binary mode.\u001b[39;00m\n\u001b[0;32m    870\u001b[0m     \u001b[38;5;66;03m# Binary mode does not support 'encoding' and 'newline'.\u001b[39;00m\n\u001b[0;32m    871\u001b[0m     \u001b[38;5;28;01mif\u001b[39;00m ioargs\u001b[38;5;241m.\u001b[39mencoding \u001b[38;5;129;01mand\u001b[39;00m \u001b[38;5;124m\"\u001b[39m\u001b[38;5;124mb\u001b[39m\u001b[38;5;124m\"\u001b[39m \u001b[38;5;129;01mnot\u001b[39;00m \u001b[38;5;129;01min\u001b[39;00m ioargs\u001b[38;5;241m.\u001b[39mmode:\n\u001b[0;32m    872\u001b[0m         \u001b[38;5;66;03m# Encoding\u001b[39;00m\n\u001b[1;32m--> 873\u001b[0m         handle \u001b[38;5;241m=\u001b[39m \u001b[38;5;28;43mopen\u001b[39;49m\u001b[43m(\u001b[49m\n\u001b[0;32m    874\u001b[0m \u001b[43m            \u001b[49m\u001b[43mhandle\u001b[49m\u001b[43m,\u001b[49m\n\u001b[0;32m    875\u001b[0m \u001b[43m            \u001b[49m\u001b[43mioargs\u001b[49m\u001b[38;5;241;43m.\u001b[39;49m\u001b[43mmode\u001b[49m\u001b[43m,\u001b[49m\n\u001b[0;32m    876\u001b[0m \u001b[43m            \u001b[49m\u001b[43mencoding\u001b[49m\u001b[38;5;241;43m=\u001b[39;49m\u001b[43mioargs\u001b[49m\u001b[38;5;241;43m.\u001b[39;49m\u001b[43mencoding\u001b[49m\u001b[43m,\u001b[49m\n\u001b[0;32m    877\u001b[0m \u001b[43m            \u001b[49m\u001b[43merrors\u001b[49m\u001b[38;5;241;43m=\u001b[39;49m\u001b[43merrors\u001b[49m\u001b[43m,\u001b[49m\n\u001b[0;32m    878\u001b[0m \u001b[43m            \u001b[49m\u001b[43mnewline\u001b[49m\u001b[38;5;241;43m=\u001b[39;49m\u001b[38;5;124;43m\"\u001b[39;49m\u001b[38;5;124;43m\"\u001b[39;49m\u001b[43m,\u001b[49m\n\u001b[0;32m    879\u001b[0m \u001b[43m        \u001b[49m\u001b[43m)\u001b[49m\n\u001b[0;32m    880\u001b[0m     \u001b[38;5;28;01melse\u001b[39;00m:\n\u001b[0;32m    881\u001b[0m         \u001b[38;5;66;03m# Binary mode\u001b[39;00m\n\u001b[0;32m    882\u001b[0m         handle \u001b[38;5;241m=\u001b[39m \u001b[38;5;28mopen\u001b[39m(handle, ioargs\u001b[38;5;241m.\u001b[39mmode)\n",
      "\u001b[1;31mFileNotFoundError\u001b[0m: [Errno 2] No such file or directory: '/content/drive/MyDrive/ML_Datasets/diabetes_prediction_dataset.csv'"
     ]
    }
   ],
   "source": [
    "df=pd.read_csv('/content/drive/MyDrive/ML_Datasets/diabetes_prediction_dataset.csv')"
   ]
  },
  {
   "cell_type": "code",
   "execution_count": null,
   "metadata": {
    "colab": {
     "base_uri": "https://localhost:8080/",
     "height": 0
    },
    "id": "Kl4QXrWIDvc6",
    "outputId": "1df883ff-07ae-46ec-c5a8-b78a3ccfee90"
   },
   "outputs": [],
   "source": [
    "print(\"Number of row:\",df.shape[0])  # Size of the sample"
   ]
  },
  {
   "cell_type": "code",
   "execution_count": null,
   "metadata": {
    "colab": {
     "base_uri": "https://localhost:8080/",
     "height": 0
    },
    "id": "ke8vikI2Ep70",
    "outputId": "930a10ad-90d4-4e42-d145-33c7fd722819"
   },
   "outputs": [],
   "source": [
    "print(\"Number of columns:\",df.shape[1])   # Number of features in dataset"
   ]
  },
  {
   "cell_type": "code",
   "execution_count": null,
   "metadata": {
    "colab": {
     "base_uri": "https://localhost:8080/",
     "height": 366
    },
    "id": "CVpjLUi5zyTm",
    "outputId": "375a2c48-9a99-4e97-b212-135b654e1d06"
   },
   "outputs": [],
   "source": [
    "# Printing the datatypes of the features\n",
    "\n",
    "df.dtypes"
   ]
  },
  {
   "cell_type": "code",
   "execution_count": null,
   "metadata": {
    "colab": {
     "base_uri": "https://localhost:8080/",
     "height": 0
    },
    "id": "TdJoy-enFV63",
    "outputId": "a85582ac-6ca0-4178-97c9-ed58e79a1b9b"
   },
   "outputs": [],
   "source": [
    "# 2. Count the number of diabetes patient who never smoke\n",
    "\n",
    "never_smoked_diabetes = df[(df['smoking_history'] == 'never') & (df['diabetes'] == 1)]\n",
    "num_never_smoked_diabetes = len(never_smoked_diabetes)\n",
    "print(\"No. of patients who never smoked:\",num_never_smoked_diabetes)\n"
   ]
  },
  {
   "cell_type": "code",
   "execution_count": null,
   "metadata": {
    "colab": {
     "base_uri": "https://localhost:8080/",
     "height": 0
    },
    "id": "gzlG5lHzJJl8",
    "outputId": "8667b801-2c7d-4f74-cb6d-059130a8bf38"
   },
   "outputs": [],
   "source": [
    "# 3. Display all the statistical measure about the data frame\n",
    "\n",
    "print(df.describe())\n"
   ]
  },
  {
   "cell_type": "code",
   "execution_count": null,
   "metadata": {
    "colab": {
     "base_uri": "https://localhost:8080/",
     "height": 0
    },
    "id": "gpjiYO8RJyno",
    "outputId": "0b401a92-d712-4c21-97a0-b22ee950e6e6"
   },
   "outputs": [],
   "source": [
    "# 4. Find the number of samples having missing values\n",
    "\n",
    "missing_values = df.isnull().sum()\n",
    "print(missing_values)"
   ]
  },
  {
   "cell_type": "code",
   "execution_count": null,
   "metadata": {
    "colab": {
     "base_uri": "https://localhost:8080/",
     "height": 1616
    },
    "id": "x3JE9-8qqiwT",
    "outputId": "61cc4f11-a933-4419-a5e6-72d479b47350"
   },
   "outputs": [],
   "source": [
    "# 5. Print the first 50 samples from the dataset\n",
    "\n",
    "df.head(50)"
   ]
  },
  {
   "cell_type": "markdown",
   "metadata": {
    "id": "01sF6wb2Kbr8"
   },
   "source": [
    "# **TASK-2  PREPOCESSING**"
   ]
  },
  {
   "cell_type": "markdown",
   "metadata": {
    "id": "FGQOphYqKk6D"
   },
   "source": [
    "Task 2:\n",
    "1. Find the number of missing samples for each feature and if there is any missing value found, then fill the values based on the type of data(continuous/discrete).\n",
    "2. Remove the duplicated sample from the dataset.\n",
    "3. Normalize the input feature “blood_glucose_level” to the range of 0 to 1(Use the appropriate normalization type based on the requirement).\n",
    "4. Map all the categorical data to ordinal data.\n",
    "5. Identify the outlier range (lower bound and upper bound) for the above dataset and list the outliers."
   ]
  },
  {
   "cell_type": "code",
   "execution_count": null,
   "metadata": {
    "colab": {
     "base_uri": "https://localhost:8080/",
     "height": 0
    },
    "id": "w6JudZtl3aH2",
    "outputId": "1c98f4d6-fb62-45ac-c068-308c06ba30f3"
   },
   "outputs": [],
   "source": [
    "# 1. Find the number of missing samples for each feature and if there is any missing value found, then fill the values based on the type of data(continuous/discrete).\n",
    "\n",
    "#Check for missing values\n",
    "print(\"Number of missing values:\")\n",
    "print(df.isnull().sum())\n"
   ]
  },
  {
   "cell_type": "code",
   "execution_count": null,
   "metadata": {
    "id": "x2koXTRs5P-Q"
   },
   "outputs": [],
   "source": [
    "# 1. Fill Missing Values (continuous -> mean, categorical -> mode)\n",
    "\n",
    "for col in df.columns:\n",
    "  if df[col].dtype == 'object':\n",
    "    df[col].fillna(df[col].mode()[0])\n",
    "  else:\n",
    "    df[col].fillna(df[col].mean())\n"
   ]
  },
  {
   "cell_type": "code",
   "execution_count": null,
   "metadata": {
    "colab": {
     "base_uri": "https://localhost:8080/",
     "height": 0
    },
    "id": "b4-J4Hhj63j4",
    "outputId": "eaaf2795-008e-4427-fef6-2eef99f82708"
   },
   "outputs": [],
   "source": [
    "# 2. Remove the duplicated sample from the dataset\n",
    "\n",
    "print(\"Number of duplicates:\")\n",
    "print(df.duplicated().sum())  #Identifying duplicates\n",
    "\n",
    "#Removing duplicates\n",
    "print(\"Number of duplicates after removing duplicates:\")\n",
    "df = df.drop_duplicates()\n",
    "print(df.duplicated().sum())\n"
   ]
  },
  {
   "cell_type": "code",
   "execution_count": null,
   "metadata": {
    "colab": {
     "base_uri": "https://localhost:8080/",
     "height": 0
    },
    "id": "dDFXjp5LT63V",
    "outputId": "90922067-f457-43da-b97a-cd4e8bbd223a"
   },
   "outputs": [],
   "source": [
    "# 3. Normalize the input feature “blood_glucose_level” to the range of 0 to 1.\n",
    "# (Use the appropriate normalization type based on the requirement).\n",
    "\n",
    "from sklearn.preprocessing import MinMaxScaler\n",
    "scaler = MinMaxScaler()\n",
    "\n",
    "# Convert to float64 before scaling\n",
    "df['blood_glucose_level'] = df['blood_glucose_level'].astype(float)\n",
    "\n",
    "df.loc[:, 'blood_glucose_level'] = scaler.fit_transform(df[['blood_glucose_level']]).round(3)\n",
    "\n",
    "df = df.round(3)  # Round all columns to 3 decimal places\n",
    "print(df['blood_glucose_level'].head())\n"
   ]
  },
  {
   "cell_type": "code",
   "execution_count": null,
   "metadata": {
    "colab": {
     "base_uri": "https://localhost:8080/",
     "height": 0
    },
    "id": "Hnr_nOGR8p21",
    "outputId": "62ce5393-d761-4fad-fcc1-86495949d0d8"
   },
   "outputs": [],
   "source": [
    "# 4. Map all the categorical data to ordinal data.\n",
    "\n",
    "from sklearn.preprocessing import LabelEncoder\n",
    "encoder = LabelEncoder()\n",
    "categorical_cols = ['gender', 'smoking_history']\n",
    "for col in categorical_cols:\n",
    "  df[col] = encoder.fit_transform(df[col])\n",
    "\n",
    "print(df[['gender','smoking_history']].head())\n"
   ]
  },
  {
   "cell_type": "code",
   "execution_count": null,
   "metadata": {
    "colab": {
     "base_uri": "https://localhost:8080/",
     "height": 0
    },
    "id": "XvHbnMfx63Z8",
    "outputId": "c465c836-1277-46e3-b6d4-c29786e170f6"
   },
   "outputs": [],
   "source": [
    "# 5. Identify the outlier range (lower bound and upper bound)\n",
    "# for the above dataset and list the outliers.\n",
    "\n",
    "Q1 = df.quantile(0.25)\n",
    "Q3 = df.quantile(0.75)\n",
    "IQR = Q3 - Q1\n",
    "\n",
    "lower_bound = (Q1 - 1.5 * IQR).round(3)\n",
    "upper_bound = (Q3 + 1.5 * IQR).round(3)\n",
    "\n",
    "# Print lower and upper bounds for each column\n",
    "print(\"Lower and Upper Bounds for each columns:\")\n",
    "for column in df.columns:\n",
    "    print(f\"{column:25} lower bound: {lower_bound[column]:<10} upper bound: {upper_bound[column]:<10}\")\n",
    "\n",
    "# Identify and list outliers (this part remains the same)\n",
    "outliers = df[((df < lower_bound) | (df > upper_bound)).any(axis=1)]\n",
    "print(\"\\nOutliers detected:\\n\",outliers.sum())\n",
    "print(\"\\nOutliers:\")\n",
    "print(outliers)"
   ]
  },
  {
   "cell_type": "markdown",
   "metadata": {
    "id": "f5pU2ojQbkVr"
   },
   "source": [
    "# TASK-3.1  LINEAR REGRESSION (MANUAL)"
   ]
  },
  {
   "cell_type": "markdown",
   "metadata": {
    "id": "lCuCutrDcVRX"
   },
   "source": [
    "**TASK - 3.1**\n",
    "\n",
    "From the above dataset, consider only two attribute in the input dataset namely\n",
    "“blood_glucose_level” and “diabetes” for the Task3.1 and Task 3.2. Based on the blood glucose level, the person is classified under diabetic as “1” or non-diabetic as “0”. Perform the following,\n",
    "1. Split the given dataset into training and testing dataset.\n",
    "2. Assign the weights and bias using any of the approach (formula or taking random values).\n",
    "3. Write your own code for building the Linear Regression model using the training dataset and predict the target class.\n",
    "4. Calculate the Error deviation using test dataset by applying any measures and also find the Accuracy of the model.\n",
    "5. Once the model is built, predict whether a person is diabetic or not for the given blood_glucose_level =155."
   ]
  },
  {
   "cell_type": "code",
   "execution_count": null,
   "metadata": {
    "id": "c3cYCWn5i4Ko"
   },
   "outputs": [],
   "source": [
    "from sklearn.model_selection import train_test_split\n",
    "from sklearn.linear_model import LinearRegression\n",
    "from sklearn.metrics import mean_absolute_error, mean_squared_error, r2_score\n",
    "import numpy as np"
   ]
  },
  {
   "cell_type": "code",
   "execution_count": null,
   "metadata": {
    "id": "W3l1inj2i1Dh"
   },
   "outputs": [],
   "source": [
    "# 1. Split the given dataset into training and testing dataset.\n",
    "x = df[['blood_glucose_level']]\n",
    "y = df['diabetes']\n",
    "x_train, x_test, y_train, y_test = train_test_split(x, y, test_size=0.2, random_state=42)\n"
   ]
  },
  {
   "cell_type": "code",
   "execution_count": null,
   "metadata": {
    "colab": {
     "base_uri": "https://localhost:8080/",
     "height": 0
    },
    "id": "fejs9Jsy-HEp",
    "outputId": "c29af953-c55a-47bf-bd24-c8a5b57bf29c"
   },
   "outputs": [],
   "source": [
    "# Assign the weights and bias using any of the approach (formula or taking random values).\n",
    "\n",
    "model= LinearRegression()\n",
    "X=np.array(x_train).reshape(-1,1)\n",
    "Y=np.array(y_train).reshape(-1,1)\n",
    "model.fit(X,Y)                   #Fitting data to model\n",
    "w= float(model.coef_[0].item())    #Weight(Slope)\n",
    "b= float(model.intercept_.item())  #Bias(Intercept)\n",
    "print(\"Weight: \", w, \"Bias: \", b)\n"
   ]
  },
  {
   "cell_type": "code",
   "execution_count": null,
   "metadata": {
    "id": "I_mPTiAt-cVI"
   },
   "outputs": [],
   "source": [
    "# 3. Write your own code for building the Linear Regression model using the training dataset and predict the target class.\n",
    "\n",
    "def linearReg(w,b,x):\n",
    "    m= x.shape[0]\n",
    "    y= np.zeros(m)\n",
    "    for i in range(m):\n",
    "        y[i]= w*x[i]+b\n",
    "    return y"
   ]
  },
  {
   "cell_type": "code",
   "execution_count": null,
   "metadata": {
    "colab": {
     "base_uri": "https://localhost:8080/",
     "height": 0
    },
    "id": "T5BQR3IwAonB",
    "outputId": "1cce2711-740e-48d7-d76d-d1fab9018a9c"
   },
   "outputs": [],
   "source": [
    "y_pred= linearReg(w,b,np.array(x_test).reshape(-1,1))\n",
    "y_pred_class= [1 if i >0.5 else 0 for i in y_pred]\n",
    "print(y_pred_class)\n",
    "# Sample Output: [0, 0, 0, 0, 0, 0,......, 0, 0, 0, 0, 0] output too long"
   ]
  },
  {
   "cell_type": "code",
   "execution_count": null,
   "metadata": {
    "colab": {
     "base_uri": "https://localhost:8080/",
     "height": 0
    },
    "id": "UJPFxLP5ArNB",
    "outputId": "d4ab236c-a025-4b73-b82f-848c5322723a"
   },
   "outputs": [],
   "source": [
    "# 4. Calculate the Error deviation using test dataset by applying any measures and also find the Accuracy of the model.\n",
    "\n",
    "mae= mean_absolute_error(y_test,y_pred_class)\n",
    "mse = mean_squared_error(y_test, y_pred_class)\n",
    "r2 = r2_score(y_test, y_pred_class)\n",
    "print(mae)\n",
    "print(mse)\n",
    "print(r2)\n"
   ]
  },
  {
   "cell_type": "code",
   "execution_count": null,
   "metadata": {
    "colab": {
     "base_uri": "https://localhost:8080/",
     "height": 363
    },
    "id": "0vZMcRNyrK0u",
    "outputId": "3f30e232-f90d-4db7-a43b-e14d2594674e"
   },
   "outputs": [],
   "source": [
    "df.head(10)"
   ]
  },
  {
   "cell_type": "code",
   "execution_count": null,
   "metadata": {
    "colab": {
     "base_uri": "https://localhost:8080/",
     "height": 0
    },
    "id": "MLqh2QIHuTfW",
    "outputId": "97d3aa2d-c49f-4cb0-be86-f0fe0ee7e8ce"
   },
   "outputs": [],
   "source": [
    "# 5. Once the model is built, predict whether a person is diabetic or not for the given blood_glucose_level =155\n",
    "\n",
    "# calculating threshold value to determine whether diabetic or not\n",
    "med=np.median(df['blood_glucose_level'])\n",
    "print(\"Median Value:\",med)\n",
    "\n",
    "# predicting whether a person is diabetic or not for the given blood_glucose_level =155\n",
    "t=w*155+b\n",
    "if(t>0.273):\n",
    "    print(1)\n",
    "else:\n",
    "    print(0)\n"
   ]
  },
  {
   "cell_type": "markdown",
   "metadata": {
    "id": "vuKrllcqueVp"
   },
   "source": [
    "# TASK - 3.2  LINEAR REGRESSION (USING IN-BUILT FUNCTIONS)"
   ]
  },
  {
   "cell_type": "markdown",
   "metadata": {
    "id": "YMl6vPbQcaxz"
   },
   "source": [
    "**TASK - 3.2**\n",
    "\n",
    "Modify the code executed in task-3.1. Step 2, 3 & 4 in the above task can be replaced with inbuilt functions. Compare the error and accuracy in both the task. If there is any deviation, write your inference and observations in the last line of code as comment line\n"
   ]
  },
  {
   "cell_type": "code",
   "execution_count": null,
   "metadata": {
    "id": "GkTCu3UsBami"
   },
   "outputs": [],
   "source": [
    "y_pred2=model.predict(np.array(x_test).reshape(-1,1))\n",
    "y_pred_class2= [1 if i >0.5 else 0 for i in y_pred2]"
   ]
  },
  {
   "cell_type": "code",
   "execution_count": null,
   "metadata": {
    "colab": {
     "base_uri": "https://localhost:8080/",
     "height": 0
    },
    "id": "CGATvUENBcKt",
    "outputId": "b156de35-5082-4bfa-bade-b1b762ddec48"
   },
   "outputs": [],
   "source": [
    "mae2 = mean_absolute_error(y_test,y_pred_class2)\n",
    "mse2 = mean_squared_error(y_test, y_pred_class2)\n",
    "r22 = r2_score(y_test, y_pred_class2)\n",
    "print(mae2)\n",
    "print(mse2)\n",
    "print(r22)"
   ]
  },
  {
   "cell_type": "code",
   "execution_count": null,
   "metadata": {
    "id": "oQa89nljOzAg"
   },
   "outputs": [],
   "source": [
    "# Since the Weight and Bias are calculated using inbuilt functions both methods have same error and accuracy."
   ]
  },
  {
   "cell_type": "markdown",
   "metadata": {
    "id": "m89ZCTT6JaMR"
   },
   "source": [
    "# TASK - 4  MULTI-LINEAR REGRESSION"
   ]
  },
  {
   "cell_type": "markdown",
   "metadata": {
    "id": "bBpSRSc-oKcQ"
   },
   "source": [
    "TASK - 4:\n",
    "\n",
    "Using the diabetes dataset, build the multilinear regression model and perform the following\n",
    "1. Split the dataset for training and testing\n",
    "2. Display the intercepts/constant values calculated\n",
    "3. Calculate the accuracy of the model\n",
    "4. Draw the comparison graph with y and predicted y\n",
    "5. Predict the person is diabetic or not for the new input feature “Female,36,0,0,current,32.27,6.2,220”  "
   ]
  },
  {
   "cell_type": "code",
   "execution_count": null,
   "metadata": {
    "colab": {
     "base_uri": "https://localhost:8080/",
     "height": 0
    },
    "id": "AdZLYpPXBe8l",
    "outputId": "8c5b865a-b350-478c-ccb2-59702f7c35ac"
   },
   "outputs": [],
   "source": [
    "# 1. Split the dataset for training and testing\n",
    "\n",
    "most_frequent_gender = df['gender'].mode()[0]\n",
    "df['gender'].fillna(most_frequent_gender, inplace=True)\n",
    "most_frequent = df['smoking_history'].mode()[0]\n",
    "df['smoking_history'].fillna(most_frequent, inplace=True)\n",
    "print(df.isna().sum())\n",
    "X=df.drop('diabetes',axis=1) #Independent Classes\n",
    "Y=df['diabetes']  #Target Class\n",
    "#Training and testing data split\n",
    "x_train, x_test, y_train, y_test= train_test_split(X, Y, test_size=0.25, random_state=42)"
   ]
  },
  {
   "cell_type": "code",
   "execution_count": null,
   "metadata": {
    "colab": {
     "base_uri": "https://localhost:8080/",
     "height": 80
    },
    "id": "cGsK5fosJsje",
    "outputId": "1815c568-f83b-49f7-d6af-9259a349caf7"
   },
   "outputs": [],
   "source": [
    "#Bulilding model\n",
    "mlr= LinearRegression()\n",
    "mlr.fit(x_train, y_train)\n"
   ]
  },
  {
   "cell_type": "code",
   "execution_count": null,
   "metadata": {
    "colab": {
     "base_uri": "https://localhost:8080/",
     "height": 0
    },
    "id": "dZXfjPt_JuP8",
    "outputId": "8a42b452-ede4-4e9f-e043-6eb6043469e4"
   },
   "outputs": [],
   "source": [
    "# 3. Display the intercepts/constant values calculated\n",
    "\n",
    "print(\"Intercept: \", mlr.intercept_)\n",
    "print(\"Coefficients:\")\n",
    "list(zip(X, mlr.coef_))\n"
   ]
  },
  {
   "cell_type": "code",
   "execution_count": null,
   "metadata": {
    "id": "ZW2ZKyFMJv-k"
   },
   "outputs": [],
   "source": [
    "# Predicting testing data\n",
    "y_pred_mlr= mlr.predict(x_test)\n",
    "rest=[1 if i >0.5 else 0 for i in y_pred_mlr]\n"
   ]
  },
  {
   "cell_type": "code",
   "execution_count": null,
   "metadata": {
    "colab": {
     "base_uri": "https://localhost:8080/",
     "height": 0
    },
    "id": "PiHO9V91JxnL",
    "outputId": "2dda0dd1-a2b4-447d-8585-6b8b012fb543"
   },
   "outputs": [],
   "source": [
    "# 3. Calculate the accuracy of the model\n",
    "\n",
    "mlr_mae= mean_absolute_error(y_test,rest)\n",
    "mlr_mse = mean_squared_error(y_test, rest)\n",
    "mlr_r2 = r2_score(y_test, rest)\n",
    "print(mlr_mae)\n",
    "print(mlr_mse)\n",
    "print(mlr_r2)\n"
   ]
  },
  {
   "cell_type": "code",
   "execution_count": null,
   "metadata": {
    "colab": {
     "base_uri": "https://localhost:8080/",
     "height": 564
    },
    "id": "N462zKM_JzG8",
    "outputId": "4b40859b-c523-4401-c352-7e8289128127"
   },
   "outputs": [],
   "source": [
    "# 4. Draw the comparison graph with y and predicted y\n",
    "\n",
    "import matplotlib.pyplot as plt\n",
    "plt.figure(figsize=(8,6))\n",
    "plt.scatter(y_test, rest,color='blue')\n",
    "plt.title('Actual vs Predicted Values')\n",
    "plt.xlabel('Actual Values (y_test)')\n",
    "plt.ylabel('Predicted Values (y_pred_mlr)')\n",
    "plt.plot([min(y_test), max(y_test)], [min(y_test), max(y_test)], color='red', linestyle='--')\n",
    "plt.show()\n"
   ]
  },
  {
   "cell_type": "code",
   "execution_count": null,
   "metadata": {
    "colab": {
     "base_uri": "https://localhost:8080/",
     "height": 0
    },
    "id": "hqzTUioNJ19D",
    "outputId": "7313e896-172f-41f3-f52d-5005a107f70d"
   },
   "outputs": [],
   "source": [
    "# 5. Predict the person is diabetic or not for the new input feature\n",
    "# “Female,36,0,0,current,32.27,6.2,220”\n",
    "\n",
    "sample= [[0,36,0,0,2,32.27,6.2,.220]]\n",
    "sam=pd.DataFrame(sample, columns=['gender','age','hypertension','heart_disease','smoking_history','bmi','HbA1c_level','blood_glucose_level'])\n",
    "mlr_rest= mlr.predict(sam)\n",
    "if mlr_rest<0.5:\n",
    "    print(1)\n",
    "else:\n",
    "    print(0)\n"
   ]
  },
  {
   "cell_type": "markdown",
   "metadata": {
    "id": "bq4AvXGvJ3PI"
   },
   "source": [
    "# TASK - 5  LOGISTIC REGRESSION"
   ]
  },
  {
   "cell_type": "markdown",
   "metadata": {
    "id": "V0ExpRCEpRj7"
   },
   "source": [
    "TASK - 5:\n",
    "\n",
    "Using the diabetes dataset build the logistic regression model and perform the following\n",
    "1. Split the dataset for training and testing\n",
    "2. Build and Test the model\n",
    "3. Evaluate the model using confusion matrix and other measures. Also, Calculate the accuracy of the model\n",
    "4. Draw the comparison graph with y and predicted y\n",
    "5. Predict the person is diabetic or not for the new input feature “Male,80,0,0,never,22.06,9,155”"
   ]
  },
  {
   "cell_type": "code",
   "execution_count": null,
   "metadata": {
    "colab": {
     "base_uri": "https://localhost:8080/",
     "height": 0
    },
    "id": "KEONGqVxJ7VB",
    "outputId": "1d7cb22d-be8b-4b41-c5ea-25770d52d7bb"
   },
   "outputs": [],
   "source": [
    "# 1. Split the dataset for training and testing\n",
    "# 2. Build and Test the model\n",
    "\n",
    "from sklearn.linear_model import LogisticRegression\n",
    "\n",
    "# instantiate the model (using the default parameters)\n",
    "X = df.drop('diabetes', axis = 1)\n",
    "Y = df['diabetes']\n",
    "x_train, x_test, y_train, y_test = train_test_split(X, Y, test_size=0.25, random_state=42)\n",
    "logreg = LogisticRegression(random_state=16)\n",
    "logreg.fit(x_train, y_train)\n",
    "y_pred = logreg.predict(x_test)\n",
    "\n",
    "from sklearn.metrics import classification_report\n",
    "target_names = ['0', '1']\n",
    "print(classification_report(y_test, y_pred,target_names=target_names))\n"
   ]
  },
  {
   "cell_type": "code",
   "execution_count": null,
   "metadata": {
    "colab": {
     "base_uri": "https://localhost:8080/",
     "height": 0
    },
    "id": "om9ftt8OJ-Jd",
    "outputId": "ec4fc4b2-6d45-491c-ac85-d51eb2c35ae3"
   },
   "outputs": [],
   "source": [
    "# 3. Evaluate the model using confusion matrix and other measures. Also, Calculate the accuracy of the model\n",
    "\n",
    "from sklearn import metrics\n",
    "cnf_matrix = metrics.confusion_matrix(y_test, y_pred)\n",
    "print(cnf_matrix)\n"
   ]
  },
  {
   "cell_type": "code",
   "execution_count": null,
   "metadata": {
    "colab": {
     "base_uri": "https://localhost:8080/",
     "height": 569
    },
    "id": "I3a1jeY1J_4U",
    "outputId": "d0fc4062-fa2b-40b0-dcba-005d9eec9049"
   },
   "outputs": [],
   "source": [
    "# Heatmap Plot\n",
    "\n",
    "ax= sns.heatmap(pd.DataFrame(cnf_matrix), annot=True, cmap=\"YlGnBu\",fmt='g')\n",
    "ax.xaxis.set_label_position(\"top\")\n",
    "plt.tight_layout()\n",
    "plt.title('Confusion matrix', y=1.1)\n",
    "plt.ylabel('Actual label')\n",
    "plt.xlabel('Predicted label')\n"
   ]
  },
  {
   "cell_type": "code",
   "execution_count": null,
   "metadata": {
    "colab": {
     "base_uri": "https://localhost:8080/",
     "height": 564
    },
    "id": "-ShSn4ksKBpT",
    "outputId": "d164a4b8-24cc-4838-aaa0-7361728b73d8"
   },
   "outputs": [],
   "source": [
    "# 4. Draw the comparison graph with y and predicted y\n",
    "\n",
    "plt.figure(figsize=(8,6))\n",
    "plt.scatter(y_test, rest,color='blue')\n",
    "plt.title('Actual vs Predicted Values')\n",
    "plt.xlabel('Actual Values (y_test)')\n",
    "plt.ylabel('Predicted Values (y_pred_mlr)')\n",
    "plt.plot([min(y_test), max(y_test)], [min(y_test), max(y_test)], color='red', linestyle='--')\n",
    "plt.show()\n"
   ]
  },
  {
   "cell_type": "code",
   "execution_count": 2,
   "metadata": {
    "colab": {
     "base_uri": "https://localhost:8080/",
     "height": 0
    },
    "id": "v5WG1tibKDEr",
    "outputId": "9e039874-565a-4cc9-f894-d69c2b0c0780"
   },
   "outputs": [
    {
     "ename": "NameError",
     "evalue": "name 'pd' is not defined",
     "output_type": "error",
     "traceback": [
      "\u001b[1;31m---------------------------------------------------------------------------\u001b[0m",
      "\u001b[1;31mNameError\u001b[0m                                 Traceback (most recent call last)",
      "Cell \u001b[1;32mIn[2], line 5\u001b[0m\n\u001b[0;32m      1\u001b[0m \u001b[38;5;66;03m# Predict the person is diabetic or not for the new input feature\u001b[39;00m\n\u001b[0;32m      2\u001b[0m \u001b[38;5;66;03m# “Male,80,0,0,never,22.06,9,155”\u001b[39;00m\n\u001b[0;32m      4\u001b[0m sample\u001b[38;5;241m=\u001b[39m [[\u001b[38;5;241m1\u001b[39m,\u001b[38;5;241m80\u001b[39m,\u001b[38;5;241m0\u001b[39m,\u001b[38;5;241m0\u001b[39m,\u001b[38;5;241m0\u001b[39m,\u001b[38;5;241m22.06\u001b[39m,\u001b[38;5;241m9\u001b[39m,\u001b[38;5;241m.155\u001b[39m]]\n\u001b[1;32m----> 5\u001b[0m sam\u001b[38;5;241m=\u001b[39m\u001b[43mpd\u001b[49m\u001b[38;5;241m.\u001b[39mDataFrame(sample, columns\u001b[38;5;241m=\u001b[39m[\u001b[38;5;124m'\u001b[39m\u001b[38;5;124mgender\u001b[39m\u001b[38;5;124m'\u001b[39m,\u001b[38;5;124m'\u001b[39m\u001b[38;5;124mage\u001b[39m\u001b[38;5;124m'\u001b[39m,\u001b[38;5;124m'\u001b[39m\u001b[38;5;124mhypertension\u001b[39m\u001b[38;5;124m'\u001b[39m,\u001b[38;5;124m'\u001b[39m\u001b[38;5;124mheart_disease\u001b[39m\u001b[38;5;124m'\u001b[39m,\u001b[38;5;124m'\u001b[39m\u001b[38;5;124msmoking_history\u001b[39m\u001b[38;5;124m'\u001b[39m,\u001b[38;5;124m'\u001b[39m\u001b[38;5;124mbmi\u001b[39m\u001b[38;5;124m'\u001b[39m,\u001b[38;5;124m'\u001b[39m\u001b[38;5;124mHbA1c_level\u001b[39m\u001b[38;5;124m'\u001b[39m,\u001b[38;5;124m'\u001b[39m\u001b[38;5;124mblood_glucose_level\u001b[39m\u001b[38;5;124m'\u001b[39m])\n\u001b[0;32m      6\u001b[0m log_rest\u001b[38;5;241m=\u001b[39m logreg\u001b[38;5;241m.\u001b[39mpredict(sam)\n\u001b[0;32m      7\u001b[0m \u001b[38;5;28;01mif\u001b[39;00m log_rest\u001b[38;5;241m<\u001b[39m\u001b[38;5;241m0.5\u001b[39m:\n",
      "\u001b[1;31mNameError\u001b[0m: name 'pd' is not defined"
     ]
    }
   ],
   "source": [
    "# Predict the person is diabetic or not for the new input feature\n",
    "# “Male,80,0,0,never,22.06,9,155”\n",
    "\n",
    "sample= [[1,80,0,0,0,22.06,9,.155]]\n",
    "sam=pd.DataFrame(sample, columns=['gender','age','hypertension','heart_disease','smoking_history','bmi','HbA1c_level','blood_glucose_level'])\n",
    "log_rest= logreg.predict(sam)\n",
    "if log_rest<0.5:\n",
    "    print(1)\n",
    "else:\n",
    "    print(0)\n"
   ]
  },
  {
   "cell_type": "code",
   "execution_count": null,
   "metadata": {},
   "outputs": [],
   "source": []
  }
 ],
 "metadata": {
  "colab": {
   "provenance": [],
   "toc_visible": true
  },
  "kernelspec": {
   "display_name": "Python 3 (ipykernel)",
   "language": "python",
   "name": "python3"
  },
  "language_info": {
   "codemirror_mode": {
    "name": "ipython",
    "version": 3
   },
   "file_extension": ".py",
   "mimetype": "text/x-python",
   "name": "python",
   "nbconvert_exporter": "python",
   "pygments_lexer": "ipython3",
   "version": "3.11.9"
  }
 },
 "nbformat": 4,
 "nbformat_minor": 4
}
