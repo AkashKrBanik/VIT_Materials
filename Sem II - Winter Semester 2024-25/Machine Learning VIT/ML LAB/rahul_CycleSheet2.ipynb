{
 "cells": [
  {
   "cell_type": "markdown",
   "id": "b085a77c",
   "metadata": {},
   "source": [
    "## Name: Rahul Mittal\n",
    "## Reg.no: 24MCA0252"
   ]
  },
  {
   "cell_type": "code",
   "execution_count": 1,
   "id": "c54adf1d-518d-487e-b494-bc1f9db76a9a",
   "metadata": {
    "scrolled": true
   },
   "outputs": [
    {
     "ename": "ModuleNotFoundError",
     "evalue": "No module named 'numpy'",
     "output_type": "error",
     "traceback": [
      "\u001b[1;31m---------------------------------------------------------------------------\u001b[0m",
      "\u001b[1;31mModuleNotFoundError\u001b[0m                       Traceback (most recent call last)",
      "Cell \u001b[1;32mIn[1], line 1\u001b[0m\n\u001b[1;32m----> 1\u001b[0m \u001b[38;5;28;01mimport\u001b[39;00m\u001b[38;5;250m \u001b[39m\u001b[38;5;21;01mnumpy\u001b[39;00m\u001b[38;5;250m \u001b[39m\u001b[38;5;28;01mas\u001b[39;00m\u001b[38;5;250m \u001b[39m\u001b[38;5;21;01mnp\u001b[39;00m\n\u001b[0;32m      2\u001b[0m \u001b[38;5;28;01mimport\u001b[39;00m\u001b[38;5;250m \u001b[39m\u001b[38;5;21;01mpandas\u001b[39;00m\u001b[38;5;250m \u001b[39m\u001b[38;5;28;01mas\u001b[39;00m\u001b[38;5;250m \u001b[39m\u001b[38;5;21;01mpd\u001b[39;00m\n\u001b[0;32m      3\u001b[0m \u001b[38;5;28;01mimport\u001b[39;00m\u001b[38;5;250m \u001b[39m\u001b[38;5;21;01mmatplotlib\u001b[39;00m\u001b[38;5;21;01m.\u001b[39;00m\u001b[38;5;21;01mpyplot\u001b[39;00m\u001b[38;5;250m \u001b[39m\u001b[38;5;28;01mas\u001b[39;00m\u001b[38;5;250m \u001b[39m\u001b[38;5;21;01mplt\u001b[39;00m\n",
      "\u001b[1;31mModuleNotFoundError\u001b[0m: No module named 'numpy'"
     ]
    }
   ],
   "source": [
    "import numpy as np\n",
    "import pandas as pd\n",
    "import matplotlib.pyplot as plt\n",
    "import seaborn as sns"
   ]
  },
  {
   "cell_type": "markdown",
   "id": "415eb48a-b36d-48c4-bf7e-42b274f61971",
   "metadata": {},
   "source": [
    "## Task-1"
   ]
  },
  {
   "cell_type": "code",
   "execution_count": null,
   "id": "95dc789f-209d-48e8-b518-a24d02627647",
   "metadata": {
    "scrolled": true
   },
   "outputs": [],
   "source": [
    "ds= pd.read_csv(\"https://drive.google.com/file/d/1SmOvvXuLYLpVcxN833aYtRNflbD8qdt8/view?usp=drive_link\")"
   ]
  },
  {
   "cell_type": "code",
   "execution_count": null,
   "id": "c4eccf99-f79c-4e9e-872d-a57f52e5f394",
   "metadata": {
    "scrolled": true
   },
   "outputs": [],
   "source": [
    "print(ds)"
   ]
  },
  {
   "cell_type": "code",
   "execution_count": null,
   "id": "562c9b90-daf0-4d97-80ae-b374e1b3b6b8",
   "metadata": {
    "scrolled": true
   },
   "outputs": [],
   "source": [
    "print(ds.shape[0]) # Size of the sample"
   ]
  },
  {
   "cell_type": "code",
   "execution_count": null,
   "id": "7ecd7104-6f0a-40a6-902a-5d7a1e87ad6d",
   "metadata": {
    "scrolled": true
   },
   "outputs": [],
   "source": [
    "print(ds.shape[1]) # Number of features in dataset "
   ]
  },
  {
   "cell_type": "code",
   "execution_count": null,
   "id": "b4b23eba-1dfd-46bf-b37c-7f74fb92cfec",
   "metadata": {
    "scrolled": true
   },
   "outputs": [],
   "source": [
    "# Printing the datatypes of the features\n",
    "for i in ds:\n",
    "    print(i, type(ds[i][0]))"
   ]
  },
  {
   "cell_type": "code",
   "execution_count": null,
   "id": "73b486c4-9559-4087-9cdc-cead929e4173",
   "metadata": {
    "scrolled": true
   },
   "outputs": [],
   "source": [
    "#Counting number of patients who never smoke\n",
    "count=0\n",
    "for i in range(len(ds)):\n",
    "    if(ds[\"smoking_history\"][i]==\"never\" and ds[\"diabetes\"][i]==1):\n",
    "        count=count+1\n",
    "print(count)"
   ]
  },
  {
   "cell_type": "code",
   "execution_count": null,
   "id": "3e999fa7-7a94-401f-a9fb-02943d460006",
   "metadata": {
    "scrolled": true
   },
   "outputs": [],
   "source": [
    "# Statistical details of the dataset\n",
    "print(ds.describe())"
   ]
  },
  {
   "cell_type": "code",
   "execution_count": null,
   "id": "837b5a46-a793-4786-a299-d6e618fed6d0",
   "metadata": {
    "scrolled": true
   },
   "outputs": [],
   "source": [
    "# Counting samples with missing values\n",
    "print(ds.isnull())"
   ]
  },
  {
   "cell_type": "code",
   "execution_count": null,
   "id": "581502da-3534-48fa-9565-fa6d99f9eae8",
   "metadata": {
    "scrolled": true
   },
   "outputs": [],
   "source": [
    "# Listing first 50 samples of dataset\n",
    "print(ds.head(50))"
   ]
  },
  {
   "cell_type": "markdown",
   "id": "6b46e8a4-736e-43ef-8eb5-fded37c25efd",
   "metadata": {},
   "source": [
    "## Task-2 (Preprocessing)"
   ]
  },
  {
   "cell_type": "code",
   "execution_count": null,
   "id": "8420eb7a-21aa-4b62-b27c-0496ae846876",
   "metadata": {
    "scrolled": true
   },
   "outputs": [],
   "source": [
    "#Find the number of missing samples for each feature and if there is any missing value\n",
    "#found, then fill the values based on the type of data(continuous/discrete).\n",
    "print(ds.isna().sum())"
   ]
  },
  {
   "cell_type": "code",
   "execution_count": null,
   "id": "4c314e93",
   "metadata": {
    "scrolled": true
   },
   "outputs": [],
   "source": [
    "# For gender\n",
    "most_frequent_gender = ds['gender'].mode()[0]\n",
    "ds['gender'].fillna(most_frequent_gender, inplace=True)\n",
    "print(ds.isna().sum())"
   ]
  },
  {
   "cell_type": "code",
   "execution_count": null,
   "id": "f822fc47",
   "metadata": {
    "scrolled": true
   },
   "outputs": [],
   "source": [
    "#for smaking_history\n",
    "most_frequent = ds['smoking_history'].mode()[0]\n",
    "ds['smoking_history'].fillna(most_frequent, inplace=True)\n",
    "print(ds.isna().sum())"
   ]
  },
  {
   "cell_type": "code",
   "execution_count": null,
   "id": "60f030bb",
   "metadata": {
    "scrolled": true
   },
   "outputs": [],
   "source": [
    "#Remove the duplicated sample from the dataset\n",
    "\n",
    "print(ds[ds.duplicated()])    #duplicate samples\n",
    "ds=ds.drop_duplicates()       #Removed duplicate samples\n",
    "print(ds)        "
   ]
  },
  {
   "cell_type": "code",
   "execution_count": null,
   "id": "4aecbc2e",
   "metadata": {},
   "outputs": [],
   "source": [
    "# Normalize the input feature “blood_glucose_level” to the range of 0 to 1(Use the \n",
    "# appropriate normalization type based on the requirement)\n",
    "\n",
    "# Using Min-Max Normalization\n",
    "ds['blood_glucose_level']=(ds['blood_glucose_level']-ds['blood_glucose_level'].min())/(ds['blood_glucose_level'].max()-ds['blood_glucose_level'].min())\n",
    "\n",
    "# Rounding decimal values to two places\n",
    "ds['blood_glucose_level']=ds['blood_glucose_level'].round(2)\n",
    "print(ds)"
   ]
  },
  {
   "cell_type": "code",
   "execution_count": null,
   "id": "a16dda5b",
   "metadata": {
    "scrolled": true
   },
   "outputs": [],
   "source": [
    "# Mapping all categorical data to ordinal data\n",
    "\n",
    "gender= {'Male':1, 'Female':0}\n",
    "smoke_hist= {'current':2, 'former':1, 'never':0, 'No Info':-1}\n",
    "ds['gender']= ds['gender'].map(gender)\n",
    "ds['smoking_history']= ds['smoking_history'].map(smoke_hist)\n",
    "print(ds)"
   ]
  },
  {
   "cell_type": "code",
   "execution_count": null,
   "id": "4266c410",
   "metadata": {
    "scrolled": true
   },
   "outputs": [],
   "source": [
    "# Identifying the outlier range for the above dataset and list the outliers.\n",
    "\n",
    "bmi_q1=ds['bmi'].quantile(0.25)\n",
    "bmi_q3=ds['bmi'].quantile(0.75)\n",
    "bmi_iqr= bmi_q3-bmi_q1\n",
    "bmi_lower= bmi_q1 - 1.5 * bmi_iqr\n",
    "bmi_upper= bmi_q3 + 1.5 * bmi_iqr\n",
    "print(\"bmi lower bound: \",bmi_lower.round(0),\"bmi upper bound: \",bmi_upper.round(0))\n",
    "\n",
    "hba1c_q1=ds['HbA1c_level'].quantile(0.25)\n",
    "hba1c_q3=ds['HbA1c_level'].quantile(0.75)\n",
    "hba1c_iqr= hba1c_q3-hba1c_q1\n",
    "hba1c_lower= hba1c_q1 - 1.5 * hba1c_iqr\n",
    "hba1c_upper= hba1c_q3 + 1.5 * hba1c_iqr\n",
    "print(\"HbA1c_level lower bound: \",hba1c_lower.round(1),\"HbA1c_level upper bound: \",hba1c_upper.round(1))\n",
    "\n",
    "bgl_q1=ds['blood_glucose_level'].quantile(0.25)\n",
    "bgl_q3=ds['blood_glucose_level'].quantile(0.75)\n",
    "bgl_iqr= bgl_q3-bgl_q1\n",
    "bgl_lower= bgl_q1 - 1.5 * bgl_iqr\n",
    "bgl_upper= bgl_q3 + 1.5 * bgl_iqr\n",
    "print(\"blood_glucose_level lower bound: \",bgl_lower.round(2),\"blood_glucose_level upper bound: \",bgl_upper.round(2))"
   ]
  },
  {
   "cell_type": "markdown",
   "id": "48d8edea",
   "metadata": {},
   "source": [
    "## Task 3.1 (Linear Regression Manual)"
   ]
  },
  {
   "cell_type": "code",
   "execution_count": null,
   "id": "9681906b",
   "metadata": {
    "scrolled": true
   },
   "outputs": [],
   "source": [
    "from sklearn.model_selection import train_test_split\n",
    "from sklearn.linear_model import LinearRegression\n",
    "from sklearn.metrics import mean_absolute_error, mean_squared_error, r2_score"
   ]
  },
  {
   "cell_type": "code",
   "execution_count": null,
   "id": "676e8502",
   "metadata": {
    "scrolled": true
   },
   "outputs": [],
   "source": [
    "# Spliting the given dataset into training and testing dataset\n",
    "x= ds['blood_glucose_level']\n",
    "y= ds['diabetes']\n",
    "x_train, x_test, y_train, y_test= train_test_split(x, y, test_size=0.2, random_state=42)"
   ]
  },
  {
   "cell_type": "code",
   "execution_count": null,
   "id": "44047950",
   "metadata": {
    "scrolled": true
   },
   "outputs": [],
   "source": [
    "# Assign the weights and bias using any of the approach \n",
    "model= LinearRegression()\n",
    "X=np.array(x_train).reshape(-1,1)\n",
    "Y=np.array(y_train).reshape(-1,1)\n",
    "model.fit(X,Y)                   #Fitting data to model\n",
    "w= float(model.coef_[0])    #Weight(Slope)\n",
    "b= float(model.intercept_)  #Bias(Intercept)\n",
    "print(\"Weight: \", w, \"Bias: \", b)"
   ]
  },
  {
   "cell_type": "code",
   "execution_count": null,
   "id": "f64ad0f7",
   "metadata": {
    "scrolled": true
   },
   "outputs": [],
   "source": [
    "# Write your own code for building the Linear Regression model using the training\n",
    "# dataset and predict the target class\n",
    "\n",
    "def linearReg(w,b,x):\n",
    "    m= x.shape[0]\n",
    "    y= np.zeros(m)\n",
    "    for i in range(m):\n",
    "        y[i]= w*x[i]+b\n",
    "    return y"
   ]
  },
  {
   "cell_type": "code",
   "execution_count": null,
   "id": "d6087da2",
   "metadata": {},
   "outputs": [],
   "source": [
    "y_pred= linearReg(w,b,np.array(x_test).reshape(-1,1))\n",
    "y_pred_class= [1 if i >0.5 else 0 for i in y_pred]"
   ]
  },
  {
   "cell_type": "code",
   "execution_count": null,
   "id": "e1c9f1a2",
   "metadata": {
    "scrolled": true
   },
   "outputs": [],
   "source": [
    "# Calculating the Error deviation using test dataset by applying any measures and also\n",
    "# find the Accuracy of the model\n",
    "mae= mean_absolute_error(y_test,y_pred_class)\n",
    "mse = mean_squared_error(y_test, y_pred_class) \n",
    "r2 = r2_score(y_test, y_pred_class)\n",
    "print(mae)\n",
    "print(mse)\n",
    "print(r2)"
   ]
  },
  {
   "cell_type": "code",
   "execution_count": null,
   "id": "206c5457",
   "metadata": {
    "scrolled": true
   },
   "outputs": [],
   "source": [
    "# predicting whether a person is diabetic or not for the given blood_glucose_level =155\n",
    "t=w*0.34+b\n",
    "if(t>0.5):\n",
    "    print(1)\n",
    "else:\n",
    "    print(0)"
   ]
  },
  {
   "cell_type": "markdown",
   "id": "97b41a61",
   "metadata": {},
   "source": [
    "## Task 3.2 (Using inbuild functions)"
   ]
  },
  {
   "cell_type": "code",
   "execution_count": null,
   "id": "2302870e",
   "metadata": {},
   "outputs": [],
   "source": [
    "y_pred2=model.predict(np.array(x_test).reshape(-1,1))\n",
    "y_pred_class2= [1 if i >0.5 else 0 for i in y_pred2]"
   ]
  },
  {
   "cell_type": "code",
   "execution_count": null,
   "id": "6e4ea9fd",
   "metadata": {
    "scrolled": true
   },
   "outputs": [],
   "source": [
    "mae2 = mean_absolute_error(y_test,y_pred_class2)\n",
    "mse2 = mean_squared_error(y_test, y_pred_class2) \n",
    "r22 = r2_score(y_test, y_pred_class2)\n",
    "print(mae2)\n",
    "print(mse2)\n",
    "print(r22)"
   ]
  },
  {
   "cell_type": "code",
   "execution_count": null,
   "id": "2b4e0dd1",
   "metadata": {
    "scrolled": true
   },
   "outputs": [],
   "source": [
    "# Since the Weight and Bias are calculated using inbuild functions both methods have same error and accuracy"
   ]
  },
  {
   "cell_type": "markdown",
   "id": "5e4b97fe",
   "metadata": {},
   "source": [
    "## Task 4 Multilinear Regression"
   ]
  },
  {
   "cell_type": "code",
   "execution_count": null,
   "id": "b2477676",
   "metadata": {
    "scrolled": true
   },
   "outputs": [],
   "source": [
    "most_frequent_gender = ds['gender'].mode()[0]\n",
    "ds['gender'].fillna(most_frequent_gender, inplace=True)\n",
    "most_frequent = ds['smoking_history'].mode()[0]\n",
    "ds['smoking_history'].fillna(most_frequent, inplace=True)\n",
    "print(ds.isna().sum())\n",
    "X=ds.drop('diabetes',axis=1) #Independent Classes\n",
    "Y=ds['diabetes']  #Target Class\n",
    "#Training and testing data split\n",
    "X_train, X_test, Y_train, Y_test= train_test_split(X, Y, test_size=0.25, random_state=42)"
   ]
  },
  {
   "cell_type": "code",
   "execution_count": null,
   "id": "67edc9c6",
   "metadata": {
    "scrolled": true
   },
   "outputs": [],
   "source": [
    "#Bulilding model\n",
    "mlr= LinearRegression()\n",
    "mlr.fit(X_train, Y_train)"
   ]
  },
  {
   "cell_type": "code",
   "execution_count": null,
   "id": "ad13b7f5",
   "metadata": {
    "scrolled": true
   },
   "outputs": [],
   "source": [
    "# Intercepts and Coefficients\n",
    "print(\"Intercept: \", mlr.intercept_)\n",
    "print(\"Coefficients:\")\n",
    "list(zip(x, mlr.coef_))"
   ]
  },
  {
   "cell_type": "code",
   "execution_count": null,
   "id": "57206ec0",
   "metadata": {
    "scrolled": true
   },
   "outputs": [],
   "source": [
    "# Predicting testing data\n",
    "y_pred_mlr= mlr.predict(X_test)\n",
    "rest=[1 if i >0.5 else 0 for i in y_pred_mlr]"
   ]
  },
  {
   "cell_type": "code",
   "execution_count": null,
   "id": "134215d4",
   "metadata": {
    "scrolled": true
   },
   "outputs": [],
   "source": [
    "#Calculating the accuracy of the model\n",
    "mlr_mae= mean_absolute_error(Y_test,rest)\n",
    "mlr_mse = mean_squared_error(Y_test, rest) \n",
    "mlr_r2 = r2_score(Y_test, rest)\n",
    "print(mlr_mae)\n",
    "print(mlr_mse)\n",
    "print(mlr_r2)"
   ]
  },
  {
   "cell_type": "code",
   "execution_count": null,
   "id": "51ab781d",
   "metadata": {
    "scrolled": true
   },
   "outputs": [],
   "source": [
    "import matplotlib.pyplot as plt\n",
    "plt.figure(figsize=(8,6))\n",
    "plt.scatter(Y_test, rest,color='blue')\n",
    "plt.title('Actual vs Predicted Values')\n",
    "plt.xlabel('Actual Values (y_test)')\n",
    "plt.ylabel('Predicted Values (y_pred_mlr)')\n",
    "plt.plot([min(y_test), max(y_test)], [min(y_test), max(y_test)], color='red', linestyle='--')\n",
    "plt.show()"
   ]
  },
  {
   "cell_type": "code",
   "execution_count": null,
   "id": "1863114f",
   "metadata": {
    "scrolled": true
   },
   "outputs": [],
   "source": [
    "# Predict the person is diabetic or not for the new input feature\n",
    "# “Female,36,0,0,current,32.27,6.2,220”\n",
    "sample= [[0,36,0,0,2,32.27,6.2,0.36]]\n",
    "sam=pd.DataFrame(sample, columns=['gender','age','hypertension','heart_disease','smoking_history','bmi','HbA1c_level','blood_glucose_level'])\n",
    "mlr_rest= mlr.predict(sam)\n",
    "if mlr_rest<0.5:\n",
    "    print(1)\n",
    "else:\n",
    "    print(0)"
   ]
  },
  {
   "cell_type": "markdown",
   "id": "615905f0",
   "metadata": {},
   "source": [
    "## Task 4 (Logistic Regression)"
   ]
  },
  {
   "cell_type": "code",
   "execution_count": null,
   "id": "ec440dfa",
   "metadata": {
    "scrolled": true
   },
   "outputs": [],
   "source": [
    "from sklearn.linear_model import LogisticRegression\n",
    "# instantiate the model (using the default parameters)\n",
    "X = ds.drop('diabetes', axis = 1)\n",
    "Y = ds['diabetes']\n",
    "X_train, X_test, y_train, y_test = train_test_split(X, Y, test_size=0.25, random_state=42)\n",
    "logreg = LogisticRegression(random_state=16) \n",
    "logreg.fit(X_train, y_train)\n",
    "y_pred = logreg.predict(X_test)\n",
    "\n",
    "from sklearn.metrics import classification_report\n",
    "target_names = ['0', '1']\n",
    "print(classification_report(y_test, y_pred,\n",
    "target_names=target_names))"
   ]
  },
  {
   "cell_type": "code",
   "execution_count": null,
   "id": "58f86224",
   "metadata": {
    "scrolled": true
   },
   "outputs": [],
   "source": [
    "# Confusion Matrix\n",
    "from sklearn import metrics\n",
    "cnf_matrix = metrics.confusion_matrix(y_test, y_pred)\n",
    "print(cnf_matrix)"
   ]
  },
  {
   "cell_type": "code",
   "execution_count": null,
   "id": "ef5a48bd",
   "metadata": {
    "scrolled": true
   },
   "outputs": [],
   "source": [
    "# Heatmap Plot\n",
    "sns.heatmap(pd.DataFrame(cnf_matrix), annot=True,\n",
    "cmap=\"YlGnBu\" ,fmt='g')\n",
    "ax.xaxis.set_label_position(\"top\")\n",
    "plt.tight_layout()\n",
    "plt.title('Confusion matrix', y=1.1)\n",
    "plt.ylabel('Actual label')\n",
    "plt.xlabel('Predicted label')"
   ]
  },
  {
   "cell_type": "code",
   "execution_count": null,
   "id": "8a34d502",
   "metadata": {
    "scrolled": true
   },
   "outputs": [],
   "source": [
    "plt.figure(figsize=(8,6))\n",
    "plt.scatter(Y_test, rest,color='blue')\n",
    "plt.title('Actual vs Predicted Values')\n",
    "plt.xlabel('Actual Values (y_test)')\n",
    "plt.ylabel('Predicted Values (y_pred_mlr)')\n",
    "plt.plot([min(y_test), max(y_test)], [min(y_test), max(y_test)], color='red', linestyle='--')\n",
    "plt.show()"
   ]
  },
  {
   "cell_type": "code",
   "execution_count": null,
   "id": "fafe59d4",
   "metadata": {
    "scrolled": true
   },
   "outputs": [],
   "source": [
    "# Predict the person is diabetic or not for the new input feature\n",
    "# “Male,80,0,0,never,22.06,9,155”\n",
    "sample= [[1,80,0,0,0,22.06,9,0.34]]\n",
    "sam=pd.DataFrame(sample, columns=['gender','age','hypertension','heart_disease','smoking_history','bmi','HbA1c_level','blood_glucose_level'])\n",
    "log_rest= logreg.predict(sam)\n",
    "if log_rest<0.5:\n",
    "    print(1)\n",
    "else:\n",
    "    print(0)"
   ]
  }
 ],
 "metadata": {
  "kernelspec": {
   "display_name": "Python 3 (ipykernel)",
   "language": "python",
   "name": "python3"
  },
  "language_info": {
   "codemirror_mode": {
    "name": "ipython",
    "version": 3
   },
   "file_extension": ".py",
   "mimetype": "text/x-python",
   "name": "python",
   "nbconvert_exporter": "python",
   "pygments_lexer": "ipython3",
   "version": "3.13.1"
  }
 },
 "nbformat": 4,
 "nbformat_minor": 5
}
